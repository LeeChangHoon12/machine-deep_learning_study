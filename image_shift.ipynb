{
 "cells": [
  {
   "cell_type": "code",
   "execution_count": 62,
   "metadata": {},
   "outputs": [],
   "source": [
    "#image set expansion with shitf\n",
    "\n",
    "#mnist example"
   ]
  },
  {
   "cell_type": "code",
   "execution_count": 61,
   "metadata": {},
   "outputs": [
    {
     "data": {
      "text/plain": [
       "dict_keys(['data', 'target', 'frame', 'feature_names', 'target_names', 'DESCR', 'details', 'categories', 'url'])"
      ]
     },
     "execution_count": 61,
     "metadata": {},
     "output_type": "execute_result"
    }
   ],
   "source": [
    "from sklearn.datasets import fetch_openml\n",
    "mnist = fetch_openml('mnist_784', version=1)"
   ]
  },
  {
   "cell_type": "code",
   "execution_count": 66,
   "metadata": {},
   "outputs": [
    {
     "data": {
      "text/plain": [
       "'5'"
      ]
     },
     "execution_count": 66,
     "metadata": {},
     "output_type": "execute_result"
    }
   ],
   "source": [
    "mnist.target[0]"
   ]
  },
  {
   "cell_type": "code",
   "execution_count": 67,
   "metadata": {},
   "outputs": [],
   "source": [
    "from scipy.ndimage.interpolation import shift"
   ]
  },
  {
   "cell_type": "code",
   "execution_count": 73,
   "metadata": {},
   "outputs": [],
   "source": [
    "def shift_image(originalImage,dx,dy):\n",
    "    image = originalImage.reshape([28,28])\n",
    "    shifted_image = shift(image, [dy, dx], cval=0, mode=\"constant\")\n",
    "    shifted_image = shifted_image.reshape([-1])\n",
    "    return shifted_image"
   ]
  },
  {
   "cell_type": "code",
   "execution_count": 105,
   "metadata": {},
   "outputs": [],
   "source": [
    "original = mnist.data[10]\n",
    "moveRight = shitf_image(original,+5,0)\n",
    "moveLeft = shitf_image(original,-5,0)\n",
    "moveUp = shitf_image(original,0,-5)\n",
    "moveDown = shitf_image(original,0,+5)"
   ]
  },
  {
   "cell_type": "code",
   "execution_count": 107,
   "metadata": {},
   "outputs": [
    {
     "data": {
      "image/png": "[encoded data removed]",
      "text/plain": [
       "<Figure size 720x864 with 5 Axes>"
      ]
     },
     "metadata": {
      "needs_background": "light"
     },
     "output_type": "display_data"
    }
   ],
   "source": [
    "plt.figure(figsize=(10,12))\n",
    "plt.subplot(331)\n",
    "plt.title(\"Original\", fontsize=14)\n",
    "plt.imshow(original.reshape(28, 28), interpolation=\"nearest\", cmap=\"Greys\")\n",
    "plt.subplot(332)\n",
    "plt.title(\"right\", fontsize=14)\n",
    "plt.imshow(movieRight, interpolation=\"nearest\", cmap=\"Greys\")\n",
    "plt.subplot(333)\n",
    "plt.title(\"left\", fontsize=14)\n",
    "plt.imshow(moveLeft, interpolation=\"nearest\", cmap=\"Greys\")\n",
    "plt.subplot(334)\n",
    "plt.title(\"up\", fontsize=14)\n",
    "plt.imshow(moveUp, interpolation=\"nearest\", cmap=\"Greys\")\n",
    "plt.subplot(335)\n",
    "plt.title(\"down\", fontsize=14)\n",
    "plt.imshow(moveDown, interpolation=\"nearest\", cmap=\"Greys\")\n",
    "plt.show()"
   ]
  },
  {
   "cell_type": "code",
   "execution_count": null,
   "metadata": {},
   "outputs": [],
   "source": []
  }
 ],
 "metadata": {
  "kernelspec": {
   "display_name": "Python 3",
   "language": "python",
   "name": "python3"
  },
  "language_info": {
   "codemirror_mode": {
    "name": "ipython",
    "version": 3
   },
   "file_extension": ".py",
   "mimetype": "text/x-python",
   "name": "python",
   "nbconvert_exporter": "python",
   "pygments_lexer": "ipython3",
   "version": "3.7.6"
  }
 },
 "nbformat": 4,
 "nbformat_minor": 4
}
